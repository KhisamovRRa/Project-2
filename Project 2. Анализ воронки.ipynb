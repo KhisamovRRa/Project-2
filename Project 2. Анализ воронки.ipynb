{
 "cells": [
  {
   "cell_type": "markdown",
   "metadata": {},
   "source": [
    "# Курс \"Аналитик данных\" Project 2. Анализ воронки\n",
    "\n",
    "## ЦЕЛИ ИССЛЕДОВАНИЯ ПРОЕКТА:\n",
    "\n",
    "\n",
    "1. **Проверить, отличается ли время прохождения различных этапов для пользователей, которые прошли обучение, от пользователей, не начинавших обучение.** Насколько обучение сокращает время прохождения этапов?\n",
    "\n",
    "\n",
    "2. **Посмотреть, существует ли зависимость между вероятностью оплаты вопросов и количеством обучений, которые начинал или завершал пользователь.** Нужно доказать, что успешное обучение само по себе влияет на оплату, и без разницы, каким этапом оно шло.\n",
    "\n",
    "\n",
    "3. **Выявить, как часто пользователи начинают обучение после того, как они выбрали уровень сложности?** Это позволит нам понять, насколько прозрачен процесс взаимодействия с игрой: если пользователи после выбора уровня сложности обращаются к обучению, значит, работа с приложением непонятна."
   ]
  },
  {
   "cell_type": "markdown",
   "metadata": {},
   "source": [
    "##  Предобработка данных\n",
    "\n",
    "Перед тем как начать исследовать вышеописанные задачи, необходимо провести предобработку данных, а именно сделать выборку по пользователям зарегистрированных в 2018 году, **то есть в промежутке между 1 января и 31 декабря 2018 года включительно.**\n",
    "\n",
    "Для этого мы создадим отдельный датафрейм по 2018 году."
   ]
  },
  {
   "cell_type": "code",
   "execution_count": 1,
   "metadata": {},
   "outputs": [],
   "source": [
    "import pandas as pd\n",
    "import warnings\n",
    "import numpy as np\n",
    "warnings.filterwarnings('ignore')\n",
    "import matplotlib.pyplot as plt\n",
    "import seaborn as sns\n",
    "%matplotlib inline\n",
    "import datetime\n",
    "events_df = pd.read_csv('Events.csv')\n",
    "purchase_df = pd.read_csv('purchase.csv')\n",
    "# импорт файлов\n",
    "purchase_df['event_type'] = 'purchase'\n",
    "purchase_df = purchase_df.rename(columns={'id':'purchase_id'})\n",
    "purchase_df = purchase_df.rename(columns={'event_datetime':'first_purchase_time'})\n",
    "events_df = events_df.rename(columns={'id':'event_id'})"
   ]
  },
  {
   "cell_type": "code",
   "execution_count": 2,
   "metadata": {},
   "outputs": [
    {
     "name": "stdout",
     "output_type": "stream",
     "text": [
      "<class 'pandas.core.frame.DataFrame'>\n",
      "Int64Index: 258290 entries, 0 to 5955\n",
      "Data columns (total 9 columns):\n",
      " #   Column               Non-Null Count   Dtype  \n",
      "---  ------               --------------   -----  \n",
      " 0   event_id             252334 non-null  float64\n",
      " 1   event_type           258290 non-null  object \n",
      " 2   selected_level       31086 non-null   object \n",
      " 3   start_time           252334 non-null  object \n",
      " 4   tutorial_id          125103 non-null  float64\n",
      " 5   user_id              258290 non-null  int64  \n",
      " 6   purchase_id          5956 non-null    float64\n",
      " 7   first_purchase_time  5956 non-null    object \n",
      " 8   amount               5956 non-null    float64\n",
      "dtypes: float64(4), int64(1), object(4)\n",
      "memory usage: 19.7+ MB\n"
     ]
    }
   ],
   "source": [
    "total_events_df = pd.concat([events_df,purchase_df],sort=False)\n",
    "total_events_df.info()"
   ]
  },
  {
   "cell_type": "code",
   "execution_count": 3,
   "metadata": {},
   "outputs": [
    {
     "name": "stdout",
     "output_type": "stream",
     "text": [
      "<class 'pandas.core.frame.DataFrame'>\n",
      "Int64Index: 68559 entries, 51405 to 2778\n",
      "Data columns (total 9 columns):\n",
      " #   Column               Non-Null Count  Dtype  \n",
      "---  ------               --------------  -----  \n",
      " 0   event_id             66959 non-null  float64\n",
      " 1   event_type           68559 non-null  object \n",
      " 2   selected_level       8342 non-null   object \n",
      " 3   start_time           66959 non-null  object \n",
      " 4   tutorial_id          32954 non-null  float64\n",
      " 5   user_id              68559 non-null  int64  \n",
      " 6   purchase_id          1600 non-null   float64\n",
      " 7   first_purchase_time  1600 non-null   object \n",
      " 8   amount               1600 non-null   float64\n",
      "dtypes: float64(4), int64(1), object(4)\n",
      "memory usage: 5.2+ MB\n"
     ]
    }
   ],
   "source": [
    "cond = (events_df.start_time>='2018-01-01') & (events_df.start_time<'2019-01-01') & (events_df.event_type=='registration') \n",
    "# переменной присваиваем фильтр значений, фильтр из таблицы events\n",
    "registered = events_df[cond]['user_id'].to_list() \n",
    "# создаём список пользователей, зарег. в 2018\n",
    "total_events_2018 = total_events_df[total_events_df.user_id.isin(registered)]\n",
    "# выбор user_id в таблице purchase, по значению \"registration\" в столбце even_type таблицы events\n",
    "total_events_2018.info()\n",
    "# вывод информации"
   ]
  },
  {
   "cell_type": "code",
   "execution_count": 4,
   "metadata": {
    "scrolled": false
   },
   "outputs": [
    {
     "data": {
      "text/html": [
       "<div>\n",
       "<style scoped>\n",
       "    .dataframe tbody tr th:only-of-type {\n",
       "        vertical-align: middle;\n",
       "    }\n",
       "\n",
       "    .dataframe tbody tr th {\n",
       "        vertical-align: top;\n",
       "    }\n",
       "\n",
       "    .dataframe thead th {\n",
       "        text-align: right;\n",
       "    }\n",
       "</style>\n",
       "<table border=\"1\" class=\"dataframe\">\n",
       "  <thead>\n",
       "    <tr style=\"text-align: right;\">\n",
       "      <th></th>\n",
       "      <th>event_id</th>\n",
       "      <th>event_type</th>\n",
       "      <th>selected_level</th>\n",
       "      <th>start_time</th>\n",
       "      <th>tutorial_id</th>\n",
       "      <th>user_id</th>\n",
       "      <th>purchase_id</th>\n",
       "      <th>first_purchase_time</th>\n",
       "      <th>amount</th>\n",
       "    </tr>\n",
       "  </thead>\n",
       "  <tbody>\n",
       "    <tr>\n",
       "      <th>0</th>\n",
       "      <td>80308.0</td>\n",
       "      <td>registration</td>\n",
       "      <td>NaN</td>\n",
       "      <td>2018-01-01 03:48:40</td>\n",
       "      <td>NaN</td>\n",
       "      <td>27832</td>\n",
       "      <td>NaN</td>\n",
       "      <td>NaT</td>\n",
       "      <td>NaN</td>\n",
       "    </tr>\n",
       "    <tr>\n",
       "      <th>1</th>\n",
       "      <td>80309.0</td>\n",
       "      <td>registration</td>\n",
       "      <td>NaN</td>\n",
       "      <td>2018-01-01 04:07:25</td>\n",
       "      <td>NaN</td>\n",
       "      <td>27833</td>\n",
       "      <td>NaN</td>\n",
       "      <td>NaT</td>\n",
       "      <td>NaN</td>\n",
       "    </tr>\n",
       "    <tr>\n",
       "      <th>2</th>\n",
       "      <td>80310.0</td>\n",
       "      <td>registration</td>\n",
       "      <td>NaN</td>\n",
       "      <td>2018-01-01 08:35:10</td>\n",
       "      <td>NaN</td>\n",
       "      <td>27834</td>\n",
       "      <td>NaN</td>\n",
       "      <td>NaT</td>\n",
       "      <td>NaN</td>\n",
       "    </tr>\n",
       "    <tr>\n",
       "      <th>3</th>\n",
       "      <td>80311.0</td>\n",
       "      <td>registration</td>\n",
       "      <td>NaN</td>\n",
       "      <td>2018-01-01 11:54:47</td>\n",
       "      <td>NaN</td>\n",
       "      <td>27835</td>\n",
       "      <td>NaN</td>\n",
       "      <td>NaT</td>\n",
       "      <td>NaN</td>\n",
       "    </tr>\n",
       "    <tr>\n",
       "      <th>4</th>\n",
       "      <td>80312.0</td>\n",
       "      <td>registration</td>\n",
       "      <td>NaN</td>\n",
       "      <td>2018-01-01 13:28:07</td>\n",
       "      <td>NaN</td>\n",
       "      <td>27836</td>\n",
       "      <td>NaN</td>\n",
       "      <td>NaT</td>\n",
       "      <td>NaN</td>\n",
       "    </tr>\n",
       "    <tr>\n",
       "      <th>...</th>\n",
       "      <td>...</td>\n",
       "      <td>...</td>\n",
       "      <td>...</td>\n",
       "      <td>...</td>\n",
       "      <td>...</td>\n",
       "      <td>...</td>\n",
       "      <td>...</td>\n",
       "      <td>...</td>\n",
       "      <td>...</td>\n",
       "    </tr>\n",
       "    <tr>\n",
       "      <th>68554</th>\n",
       "      <td>NaN</td>\n",
       "      <td>purchase</td>\n",
       "      <td>NaN</td>\n",
       "      <td>NaT</td>\n",
       "      <td>NaN</td>\n",
       "      <td>47498</td>\n",
       "      <td>18441.0</td>\n",
       "      <td>2019-01-02 03:48:19</td>\n",
       "      <td>100.0</td>\n",
       "    </tr>\n",
       "    <tr>\n",
       "      <th>68555</th>\n",
       "      <td>NaN</td>\n",
       "      <td>purchase</td>\n",
       "      <td>NaN</td>\n",
       "      <td>NaT</td>\n",
       "      <td>NaN</td>\n",
       "      <td>47647</td>\n",
       "      <td>18442.0</td>\n",
       "      <td>2019-01-02 23:26:26</td>\n",
       "      <td>150.0</td>\n",
       "    </tr>\n",
       "    <tr>\n",
       "      <th>68556</th>\n",
       "      <td>NaN</td>\n",
       "      <td>purchase</td>\n",
       "      <td>NaN</td>\n",
       "      <td>NaT</td>\n",
       "      <td>NaN</td>\n",
       "      <td>47554</td>\n",
       "      <td>18443.0</td>\n",
       "      <td>2019-01-03 00:36:36</td>\n",
       "      <td>50.0</td>\n",
       "    </tr>\n",
       "    <tr>\n",
       "      <th>68557</th>\n",
       "      <td>NaN</td>\n",
       "      <td>purchase</td>\n",
       "      <td>NaN</td>\n",
       "      <td>NaT</td>\n",
       "      <td>NaN</td>\n",
       "      <td>47742</td>\n",
       "      <td>18448.0</td>\n",
       "      <td>2019-01-04 12:51:41</td>\n",
       "      <td>50.0</td>\n",
       "    </tr>\n",
       "    <tr>\n",
       "      <th>68558</th>\n",
       "      <td>NaN</td>\n",
       "      <td>purchase</td>\n",
       "      <td>NaN</td>\n",
       "      <td>NaT</td>\n",
       "      <td>NaN</td>\n",
       "      <td>47732</td>\n",
       "      <td>18452.0</td>\n",
       "      <td>2019-01-06 07:14:25</td>\n",
       "      <td>150.0</td>\n",
       "    </tr>\n",
       "  </tbody>\n",
       "</table>\n",
       "<p>68559 rows × 9 columns</p>\n",
       "</div>"
      ],
      "text/plain": [
       "       event_id    event_type selected_level          start_time  tutorial_id  \\\n",
       "0       80308.0  registration            NaN 2018-01-01 03:48:40          NaN   \n",
       "1       80309.0  registration            NaN 2018-01-01 04:07:25          NaN   \n",
       "2       80310.0  registration            NaN 2018-01-01 08:35:10          NaN   \n",
       "3       80311.0  registration            NaN 2018-01-01 11:54:47          NaN   \n",
       "4       80312.0  registration            NaN 2018-01-01 13:28:07          NaN   \n",
       "...         ...           ...            ...                 ...          ...   \n",
       "68554       NaN      purchase            NaN                 NaT          NaN   \n",
       "68555       NaN      purchase            NaN                 NaT          NaN   \n",
       "68556       NaN      purchase            NaN                 NaT          NaN   \n",
       "68557       NaN      purchase            NaN                 NaT          NaN   \n",
       "68558       NaN      purchase            NaN                 NaT          NaN   \n",
       "\n",
       "       user_id  purchase_id first_purchase_time  amount  \n",
       "0        27832          NaN                 NaT     NaN  \n",
       "1        27833          NaN                 NaT     NaN  \n",
       "2        27834          NaN                 NaT     NaN  \n",
       "3        27835          NaN                 NaT     NaN  \n",
       "4        27836          NaN                 NaT     NaN  \n",
       "...        ...          ...                 ...     ...  \n",
       "68554    47498      18441.0 2019-01-02 03:48:19   100.0  \n",
       "68555    47647      18442.0 2019-01-02 23:26:26   150.0  \n",
       "68556    47554      18443.0 2019-01-03 00:36:36    50.0  \n",
       "68557    47742      18448.0 2019-01-04 12:51:41    50.0  \n",
       "68558    47732      18452.0 2019-01-06 07:14:25   150.0  \n",
       "\n",
       "[68559 rows x 9 columns]"
      ]
     },
     "execution_count": 4,
     "metadata": {},
     "output_type": "execute_result"
    }
   ],
   "source": [
    "total_events_2018 = total_events_2018.reset_index(drop=True).sort_values('start_time')\n",
    "total_events_2018.start_time = pd.to_datetime(total_events_2018.start_time, format='%Y-%m-%dT%H:%M:%S')\n",
    "total_events_2018.first_purchase_time = pd.to_datetime(total_events_2018.first_purchase_time, format='%Y-%m-%dT%H:%M:%S')\n",
    "total_events_2018"
   ]
  },
  {
   "cell_type": "markdown",
   "metadata": {},
   "source": [
    "Мы провели выгрузку файлов, проверили то что всё правильно выгрузилось при помощи **.info()** и **.head().**"
   ]
  },
  {
   "cell_type": "markdown",
   "metadata": {},
   "source": [
    "## Вопрос 1. Проверить, отличается ли время прохождения различных этапов для пользователей, которые прошли обучение, от пользователей, не начинавших обучение. \n",
    "\n",
    "Для того что бы узнать как отличается время прохождения этапов для 2-х групп пользователей нам необходимо:\n",
    "- определить время прохождения этапов для пользователей прошедших обучение. Этапами выделяем следующие: регистрация - выбор уровня сложности - выбор пакета - покупка пакета;\n",
    "- определить время прохождения этапов для пользователей не прошедших обучение;\n",
    "- сравнить показатели;\n",
    "- построить столбчатый график для дополнительной визуализации."
   ]
  },
  {
   "cell_type": "code",
   "execution_count": 5,
   "metadata": {},
   "outputs": [
    {
     "name": "stdout",
     "output_type": "stream",
     "text": [
      "1.0\n"
     ]
    }
   ],
   "source": [
    "registration_df = total_events_2018[total_events_2018['event_type'] == 'registration']\n",
    "print(registration_df['user_id'].value_counts().mean())\n",
    "# проверяем на наличие дубликатов в данных по событию registration\n",
    "registration_df = registration_df[['user_id','start_time']].rename(columns={'start_time':'registration_time'})\n",
    "# переименовываем в получившемся датафрейме столбец start_time на registration_time"
   ]
  },
  {
   "cell_type": "code",
   "execution_count": 6,
   "metadata": {},
   "outputs": [
    {
     "name": "stdout",
     "output_type": "stream",
     "text": [
      "1.0\n"
     ]
    },
    {
     "data": {
      "text/plain": [
       "count                         8342\n",
       "mean     0 days 07:10:19.169863342\n",
       "std      0 days 04:33:51.164488800\n",
       "min                0 days 00:08:15\n",
       "25%         0 days 03:53:16.500000\n",
       "50%                0 days 06:03:28\n",
       "75%         0 days 09:34:58.500000\n",
       "max                1 days 18:48:25\n",
       "Name: delta_reg_lvl_choi, dtype: object"
      ]
     },
     "execution_count": 6,
     "metadata": {},
     "output_type": "execute_result"
    }
   ],
   "source": [
    "level_choice_df = total_events_2018[total_events_2018['event_type'] == 'level_choice']\n",
    "# выбор в таблице total_events_2018, по значению \"level_choice\" в столбце even_type таблицы\n",
    "print(level_choice_df['user_id'].value_counts().mean())\n",
    "# вывод результата поиска дубликатов\n",
    "level_choice_df = level_choice_df[['user_id','start_time']].rename(columns={'start_time':'level_choice_time'})\n",
    "# переименовываем в получившемся датафрейме столбец start_time на level_choice_time\n",
    "merged_df = registration_df.merge(level_choice_df,on='user_id',how='left')\n",
    "# объединяем таблицы друг к другу\n",
    "merged_df['delta_reg_lvl_choi'] = merged_df['level_choice_time'] - merged_df['registration_time']\n",
    "merged_df.drop(['registration_time', 'level_choice_time'], axis=1, inplace=True)\n",
    "merged_df['delta_reg_lvl_choi'].describe()"
   ]
  },
  {
   "cell_type": "code",
   "execution_count": 7,
   "metadata": {
    "scrolled": true
   },
   "outputs": [
    {
     "name": "stdout",
     "output_type": "stream",
     "text": [
      "1.0\n"
     ]
    },
    {
     "data": {
      "text/plain": [
       "count                         5737\n",
       "mean     0 days 00:05:17.128464354\n",
       "std      0 days 00:02:43.923107804\n",
       "min                0 days 00:00:19\n",
       "25%                0 days 00:03:05\n",
       "50%                0 days 00:04:57\n",
       "75%                0 days 00:07:08\n",
       "max                0 days 00:15:48\n",
       "Name: delta_lvl_choi_p_choi, dtype: object"
      ]
     },
     "execution_count": 7,
     "metadata": {},
     "output_type": "execute_result"
    }
   ],
   "source": [
    "pack_choice_df = total_events_2018[total_events_2018['event_type'] == 'pack_choice']\n",
    "# выбор в таблице total_events_2018, по значению \"pack_choice\" в столбце even_type таблицы\n",
    "print(pack_choice_df['user_id'].value_counts().mean())\n",
    "# вывод результата поиска дубликатов\n",
    "pack_choice_df = pack_choice_df[['user_id','start_time']].rename(columns={'start_time':'pack_choice_time'})\n",
    "# переименовываем в получившемся датафрейме столбец start_time на pack_choice_time\n",
    "merged_df_2 = level_choice_df.merge(pack_choice_df,on='user_id',how='left')\n",
    "# объединение датафреймов\n",
    "merged_df_2['delta_lvl_choi_p_choi'] = merged_df_2['pack_choice_time'] - merged_df_2['level_choice_time']\n",
    "# вычисление разницы между временем выбора уровня и временем регистрации\n",
    "merged_df_2.drop(['pack_choice_time', 'level_choice_time'], axis=1, inplace=True)\n",
    "merged_df_2['delta_lvl_choi_p_choi'].describe()"
   ]
  },
  {
   "cell_type": "code",
   "execution_count": 8,
   "metadata": {},
   "outputs": [
    {
     "name": "stdout",
     "output_type": "stream",
     "text": [
      "1.0\n"
     ]
    },
    {
     "data": {
      "text/plain": [
       "count                         1600\n",
       "mean        3 days 17:46:53.403125\n",
       "std      2 days 04:37:20.225124289\n",
       "min                0 days 00:44:50\n",
       "25%         1 days 21:24:13.250000\n",
       "50%         3 days 12:51:25.500000\n",
       "75%         5 days 09:42:13.750000\n",
       "max               10 days 18:33:59\n",
       "Name: delta_p_choi_purch, dtype: object"
      ]
     },
     "execution_count": 8,
     "metadata": {},
     "output_type": "execute_result"
    }
   ],
   "source": [
    "first_purchase_df = total_events_2018[total_events_2018['event_type'] == 'purchase']\n",
    "# выбор в таблице total_events_2018, по значению \"purchase\" в столбце even_type таблицы\n",
    "print(first_purchase_df['user_id'].value_counts().mean())\n",
    "# вывод результата поиска дубликатов\n",
    "merged_df_3 = first_purchase_df.merge(pack_choice_df,on='user_id',how='left')\n",
    "# объединение датафреймов\n",
    "merged_df_3['delta_p_choi_purch'] = merged_df_3['first_purchase_time'] - merged_df_3['pack_choice_time']\n",
    "# вычисление разницы между временем выбора уровня и временем регистрации\n",
    "merged_df_3.drop(['event_id','event_type','selected_level','start_time','tutorial_id','purchase_id', \n",
    "                  'amount','first_purchase_time','pack_choice_time'], axis=1, inplace=True) \n",
    "merged_df_3['delta_p_choi_purch'].describe()"
   ]
  },
  {
   "cell_type": "code",
   "execution_count": 9,
   "metadata": {},
   "outputs": [
    {
     "name": "stdout",
     "output_type": "stream",
     "text": [
      "<class 'pandas.core.frame.DataFrame'>\n",
      "Int64Index: 11858 entries, 7 to 66954\n",
      "Data columns (total 3 columns):\n",
      " #   Column              Non-Null Count  Dtype  \n",
      "---  ------              --------------  -----  \n",
      " 0   tutorial_id         11858 non-null  float64\n",
      " 1   user_id             11858 non-null  int64  \n",
      " 2   completed_tutorial  11858 non-null  object \n",
      "dtypes: float64(1), int64(1), object(1)\n",
      "memory usage: 370.6+ KB\n"
     ]
    }
   ],
   "source": [
    "total_events_2018[total_events_2018['tutorial_id'] > 0]\n",
    "user_with_tutorial = total_events_2018[total_events_2018['event_type'] == 'tutorial_start']\n",
    "user_with_tutorial.drop(['event_id','event_type','selected_level','start_time','purchase_id', 'first_purchase_time','amount'],\n",
    "                        axis=1, inplace=True)\n",
    "user_with_tutorial = user_with_tutorial.drop_duplicates('user_id')\n",
    "# удаляем дубликаты оставляя первый входимый результат присваивая другое имя\n",
    "user_with_tutorial['completed_tutorial'] = 'complete'\n",
    "user_with_tutorial.info()"
   ]
  },
  {
   "cell_type": "code",
   "execution_count": 10,
   "metadata": {
    "scrolled": false
   },
   "outputs": [
    {
     "data": {
      "text/html": [
       "<div>\n",
       "<style scoped>\n",
       "    .dataframe tbody tr th:only-of-type {\n",
       "        vertical-align: middle;\n",
       "    }\n",
       "\n",
       "    .dataframe tbody tr th {\n",
       "        vertical-align: top;\n",
       "    }\n",
       "\n",
       "    .dataframe thead th {\n",
       "        text-align: right;\n",
       "    }\n",
       "</style>\n",
       "<table border=\"1\" class=\"dataframe\">\n",
       "  <thead>\n",
       "    <tr style=\"text-align: right;\">\n",
       "      <th></th>\n",
       "      <th>user_id</th>\n",
       "      <th>delta_reg_lvl_choi</th>\n",
       "      <th>delta_lvl_choi_p_choi</th>\n",
       "      <th>delta_p_choi_purch</th>\n",
       "      <th>tutorial_id</th>\n",
       "      <th>completed_tutorial</th>\n",
       "    </tr>\n",
       "  </thead>\n",
       "  <tbody>\n",
       "    <tr>\n",
       "      <th>0</th>\n",
       "      <td>27832</td>\n",
       "      <td>NaT</td>\n",
       "      <td>NaT</td>\n",
       "      <td>NaT</td>\n",
       "      <td>NaN</td>\n",
       "      <td>not complete</td>\n",
       "    </tr>\n",
       "    <tr>\n",
       "      <th>1</th>\n",
       "      <td>27833</td>\n",
       "      <td>NaT</td>\n",
       "      <td>NaT</td>\n",
       "      <td>NaT</td>\n",
       "      <td>31508.0</td>\n",
       "      <td>complete</td>\n",
       "    </tr>\n",
       "    <tr>\n",
       "      <th>2</th>\n",
       "      <td>27834</td>\n",
       "      <td>NaT</td>\n",
       "      <td>NaT</td>\n",
       "      <td>NaT</td>\n",
       "      <td>31510.0</td>\n",
       "      <td>complete</td>\n",
       "    </tr>\n",
       "    <tr>\n",
       "      <th>3</th>\n",
       "      <td>27835</td>\n",
       "      <td>0 days 08:42:35</td>\n",
       "      <td>0 days 00:01:21</td>\n",
       "      <td>NaT</td>\n",
       "      <td>31506.0</td>\n",
       "      <td>complete</td>\n",
       "    </tr>\n",
       "    <tr>\n",
       "      <th>4</th>\n",
       "      <td>27836</td>\n",
       "      <td>NaT</td>\n",
       "      <td>NaT</td>\n",
       "      <td>NaT</td>\n",
       "      <td>31505.0</td>\n",
       "      <td>complete</td>\n",
       "    </tr>\n",
       "  </tbody>\n",
       "</table>\n",
       "</div>"
      ],
      "text/plain": [
       "   user_id delta_reg_lvl_choi delta_lvl_choi_p_choi delta_p_choi_purch  \\\n",
       "0    27832                NaT                   NaT                NaT   \n",
       "1    27833                NaT                   NaT                NaT   \n",
       "2    27834                NaT                   NaT                NaT   \n",
       "3    27835    0 days 08:42:35       0 days 00:01:21                NaT   \n",
       "4    27836                NaT                   NaT                NaT   \n",
       "\n",
       "   tutorial_id completed_tutorial  \n",
       "0          NaN       not complete  \n",
       "1      31508.0           complete  \n",
       "2      31510.0           complete  \n",
       "3      31506.0           complete  \n",
       "4      31505.0           complete  "
      ]
     },
     "execution_count": 10,
     "metadata": {},
     "output_type": "execute_result"
    }
   ],
   "source": [
    "all_merged_df = merged_df.merge(merged_df_2,on='user_id',how='left')\n",
    "all_merged_df = all_merged_df.merge(merged_df_3,on='user_id',how='left')\n",
    "all_merged_df = all_merged_df.merge(user_with_tutorial, on='user_id',how='left')\n",
    "all_merged_df.completed_tutorial = all_merged_df.completed_tutorial.fillna('not complete')\n",
    "all_merged_df.head()"
   ]
  },
  {
   "cell_type": "code",
   "execution_count": 11,
   "metadata": {
    "scrolled": true
   },
   "outputs": [
    {
     "name": "stdout",
     "output_type": "stream",
     "text": [
      "<class 'pandas.core.frame.DataFrame'>\n",
      "Int64Index: 19926 entries, 0 to 19925\n",
      "Data columns (total 6 columns):\n",
      " #   Column                 Non-Null Count  Dtype          \n",
      "---  ------                 --------------  -----          \n",
      " 0   user_id                19926 non-null  int64          \n",
      " 1   delta_reg_lvl_choi     8342 non-null   timedelta64[ns]\n",
      " 2   delta_lvl_choi_p_choi  5737 non-null   timedelta64[ns]\n",
      " 3   delta_p_choi_purch     1600 non-null   timedelta64[ns]\n",
      " 4   tutorial_id            11858 non-null  float64        \n",
      " 5   completed_tutorial     19926 non-null  object         \n",
      "dtypes: float64(1), int64(1), object(1), timedelta64[ns](3)\n",
      "memory usage: 1.1+ MB\n"
     ]
    }
   ],
   "source": [
    "all_merged_df.info()"
   ]
  },
  {
   "cell_type": "code",
   "execution_count": 12,
   "metadata": {
    "scrolled": true
   },
   "outputs": [
    {
     "data": {
      "text/html": [
       "<div>\n",
       "<style scoped>\n",
       "    .dataframe tbody tr th:only-of-type {\n",
       "        vertical-align: middle;\n",
       "    }\n",
       "\n",
       "    .dataframe tbody tr th {\n",
       "        vertical-align: top;\n",
       "    }\n",
       "\n",
       "    .dataframe thead th {\n",
       "        text-align: right;\n",
       "    }\n",
       "</style>\n",
       "<table border=\"1\" class=\"dataframe\">\n",
       "  <thead>\n",
       "    <tr style=\"text-align: right;\">\n",
       "      <th>completed_tutorial</th>\n",
       "      <th>complete</th>\n",
       "      <th>not complete</th>\n",
       "    </tr>\n",
       "  </thead>\n",
       "  <tbody>\n",
       "    <tr>\n",
       "      <th>0</th>\n",
       "      <td>431.68</td>\n",
       "      <td>315.55</td>\n",
       "    </tr>\n",
       "    <tr>\n",
       "      <th>1</th>\n",
       "      <td>5.28</td>\n",
       "      <td>5.40</td>\n",
       "    </tr>\n",
       "    <tr>\n",
       "      <th>2</th>\n",
       "      <td>5377.65</td>\n",
       "      <td>6049.56</td>\n",
       "    </tr>\n",
       "  </tbody>\n",
       "</table>\n",
       "</div>"
      ],
      "text/plain": [
       "completed_tutorial  complete  not complete\n",
       "0                     431.68        315.55\n",
       "1                       5.28          5.40\n",
       "2                    5377.65       6049.56"
      ]
     },
     "execution_count": 12,
     "metadata": {},
     "output_type": "execute_result"
    }
   ],
   "source": [
    "group = all_merged_df.groupby(['completed_tutorial']).describe().transpose().reset_index()\n",
    "users = round(group[group['level_0'].str.contains('delta')&group['level_1'].\n",
    "        str.contains('mean')].loc[:,['complete','not complete']].reset_index().drop('index', axis = 1)/pd.Timedelta('1M'),2)\n",
    "users"
   ]
  },
  {
   "cell_type": "code",
   "execution_count": 13,
   "metadata": {
    "scrolled": false
   },
   "outputs": [
    {
     "data": {
      "text/plain": [
       "<matplotlib.legend.Legend at 0x21c1a5459a0>"
      ]
     },
     "execution_count": 13,
     "metadata": {},
     "output_type": "execute_result"
    },
    {
     "data": {
      "image/png": "[encoded data removed]",
      "text/plain": [
       "<Figure size 432x288 with 1 Axes>"
      ]
     },
     "metadata": {
      "needs_background": "light"
     },
     "output_type": "display_data"
    }
   ],
   "source": [
    "fig = plt.figure()\n",
    "axes = fig.add_axes ([0, 0, 1, 1])\n",
    "axes.bar (x= users.index, height = users['complete'], \n",
    "          width = 0.4, align = 'edge', label = 'Время проходивших обучение',)\n",
    "axes.bar (x= users.index, height = users['not complete'],\n",
    "          width = -0.4, align = 'edge',label = 'Время непроходивших обучение')\n",
    "axes.legend(loc=2)"
   ]
  },
  {
   "cell_type": "markdown",
   "metadata": {},
   "source": [
    "## Выводы\n",
    "\n",
    "Время, которое затрачиваются пользователями 2-х групп (проходивших и непроходивших обучение) для перехода между этапами:\n",
    "- различается в двух временных диапазонах: между регистрацией - выбором уровня сложности (431.68 минут и 315.55 минут соответственно) и выбором пакета вопросов - покупкой пакета (5377.65 минут и 6049.56 минут соответственно)\n",
    "- время между выбором уровня сложности - выбором пакета вопросов практически не отличается(5.28 минут и 5.40 минут соответственно)\n",
    "\n",
    "По итогам данных можно сделать вывод: затраты времени на **прохождение обучения**, в среднем 116.13 минут, **позволяет быстрее пройти весь путь до покупки**, в среднем на 671.91 минут. "
   ]
  },
  {
   "cell_type": "markdown",
   "metadata": {},
   "source": [
    "## Вопрос 2. Посмотреть, существует ли зависимость между вероятностью оплаты вопросов и количеством обучений, которые начинал или завершал пользователь. \n",
    "\n",
    "Для того что бы узнать есть ли зависимость между количеством обучений и вероятностью оплаты необходимо:\n",
    "- определить пути при которых пользователь производил оплату для покупки пакета;\n",
    "- определяем количество пользователей которые начали обучение, завершили обучение и совершили покупку;\n",
    "- сегментируем наших пользователей по признаку;\n",
    "- вычисляем процент совершения покупки пользователями из разных сегментов;\n",
    "- построить график зависимости прохождения обучения и совершения покупки."
   ]
  },
  {
   "cell_type": "code",
   "execution_count": 14,
   "metadata": {
    "scrolled": false
   },
   "outputs": [
    {
     "data": {
      "text/html": [
       "<div>\n",
       "<style scoped>\n",
       "    .dataframe tbody tr th:only-of-type {\n",
       "        vertical-align: middle;\n",
       "    }\n",
       "\n",
       "    .dataframe tbody tr th {\n",
       "        vertical-align: top;\n",
       "    }\n",
       "\n",
       "    .dataframe thead th {\n",
       "        text-align: right;\n",
       "    }\n",
       "</style>\n",
       "<table border=\"1\" class=\"dataframe\">\n",
       "  <thead>\n",
       "    <tr style=\"text-align: right;\">\n",
       "      <th></th>\n",
       "      <th>user_id</th>\n",
       "      <th>event_type</th>\n",
       "    </tr>\n",
       "  </thead>\n",
       "  <tbody>\n",
       "    <tr>\n",
       "      <th>0</th>\n",
       "      <td>27832</td>\n",
       "      <td>[registration]</td>\n",
       "    </tr>\n",
       "    <tr>\n",
       "      <th>1</th>\n",
       "      <td>27833</td>\n",
       "      <td>[registration, tutorial_start, tutorial_finish]</td>\n",
       "    </tr>\n",
       "    <tr>\n",
       "      <th>2</th>\n",
       "      <td>27834</td>\n",
       "      <td>[registration, tutorial_start, tutorial_finish]</td>\n",
       "    </tr>\n",
       "    <tr>\n",
       "      <th>3</th>\n",
       "      <td>27835</td>\n",
       "      <td>[registration, tutorial_start, tutorial_finish...</td>\n",
       "    </tr>\n",
       "    <tr>\n",
       "      <th>4</th>\n",
       "      <td>27836</td>\n",
       "      <td>[registration, tutorial_start, tutorial_start,...</td>\n",
       "    </tr>\n",
       "    <tr>\n",
       "      <th>5</th>\n",
       "      <td>27837</td>\n",
       "      <td>[registration]</td>\n",
       "    </tr>\n",
       "    <tr>\n",
       "      <th>6</th>\n",
       "      <td>27838</td>\n",
       "      <td>[registration]</td>\n",
       "    </tr>\n",
       "    <tr>\n",
       "      <th>7</th>\n",
       "      <td>27839</td>\n",
       "      <td>[registration, tutorial_start, tutorial_finish...</td>\n",
       "    </tr>\n",
       "    <tr>\n",
       "      <th>8</th>\n",
       "      <td>27840</td>\n",
       "      <td>[registration, tutorial_start, level_choice]</td>\n",
       "    </tr>\n",
       "    <tr>\n",
       "      <th>9</th>\n",
       "      <td>27841</td>\n",
       "      <td>[registration, tutorial_start, tutorial_finish]</td>\n",
       "    </tr>\n",
       "  </tbody>\n",
       "</table>\n",
       "</div>"
      ],
      "text/plain": [
       "   user_id                                         event_type\n",
       "0    27832                                     [registration]\n",
       "1    27833    [registration, tutorial_start, tutorial_finish]\n",
       "2    27834    [registration, tutorial_start, tutorial_finish]\n",
       "3    27835  [registration, tutorial_start, tutorial_finish...\n",
       "4    27836  [registration, tutorial_start, tutorial_start,...\n",
       "5    27837                                     [registration]\n",
       "6    27838                                     [registration]\n",
       "7    27839  [registration, tutorial_start, tutorial_finish...\n",
       "8    27840       [registration, tutorial_start, level_choice]\n",
       "9    27841    [registration, tutorial_start, tutorial_finish]"
      ]
     },
     "execution_count": 14,
     "metadata": {},
     "output_type": "execute_result"
    }
   ],
   "source": [
    "user_path_2018 = total_events_2018.groupby(['user_id'])['event_type'].apply(list).reset_index()\n",
    "user_path_2018.head(10)"
   ]
  },
  {
   "cell_type": "markdown",
   "metadata": {},
   "source": [
    "Из данных видим что путей, по которым пользователи проходят разнятся для каждого из них. Для этого определим количество действий: **tutorial_start, tutorial_finish, purchase** для каждого из них."
   ]
  },
  {
   "cell_type": "code",
   "execution_count": 15,
   "metadata": {},
   "outputs": [],
   "source": [
    "users_tutorial_start = total_events_2018.groupby(['user_id'])['event_type'].apply(lambda x: (x=='tutorial_start').\\\n",
    "    sum()).reset_index().rename(columns={\"event_type\": \"Tutorial_start_count\"})"
   ]
  },
  {
   "cell_type": "code",
   "execution_count": 16,
   "metadata": {},
   "outputs": [],
   "source": [
    "users_tutorial_finish = total_events_2018.groupby(['user_id'])['event_type'].apply(lambda x: (x=='tutorial_finish').\\\n",
    "    sum()).reset_index().rename(columns={\"event_type\": \"Tutorial_finish_count\"})"
   ]
  },
  {
   "cell_type": "code",
   "execution_count": 17,
   "metadata": {},
   "outputs": [],
   "source": [
    "users_purchase = total_events_2018.groupby(['user_id'])['event_type'].apply(lambda x: (x=='purchase').\\\n",
    "    sum()).reset_index().rename(columns={\"event_type\": \"Purchase_count\"})"
   ]
  },
  {
   "cell_type": "code",
   "execution_count": 18,
   "metadata": {},
   "outputs": [],
   "source": [
    "users_tutorial_w_purchase = users_tutorial_start.merge(users_tutorial_finish, on = 'user_id', how = 'inner')\n",
    "users_tutorial_w_purchase = users_tutorial_w_purchase.merge(users_purchase, on = 'user_id', how = 'inner')"
   ]
  },
  {
   "cell_type": "code",
   "execution_count": 19,
   "metadata": {
    "scrolled": true
   },
   "outputs": [
    {
     "data": {
      "text/html": [
       "<div>\n",
       "<style scoped>\n",
       "    .dataframe tbody tr th:only-of-type {\n",
       "        vertical-align: middle;\n",
       "    }\n",
       "\n",
       "    .dataframe tbody tr th {\n",
       "        vertical-align: top;\n",
       "    }\n",
       "\n",
       "    .dataframe thead th {\n",
       "        text-align: right;\n",
       "    }\n",
       "</style>\n",
       "<table border=\"1\" class=\"dataframe\">\n",
       "  <thead>\n",
       "    <tr style=\"text-align: right;\">\n",
       "      <th></th>\n",
       "      <th>user_id</th>\n",
       "      <th>Tutorial_start_count</th>\n",
       "      <th>Tutorial_finish_count</th>\n",
       "      <th>Purchase_count</th>\n",
       "    </tr>\n",
       "  </thead>\n",
       "  <tbody>\n",
       "    <tr>\n",
       "      <th>0</th>\n",
       "      <td>27832</td>\n",
       "      <td>0</td>\n",
       "      <td>0</td>\n",
       "      <td>0</td>\n",
       "    </tr>\n",
       "    <tr>\n",
       "      <th>1</th>\n",
       "      <td>27833</td>\n",
       "      <td>1</td>\n",
       "      <td>1</td>\n",
       "      <td>0</td>\n",
       "    </tr>\n",
       "    <tr>\n",
       "      <th>2</th>\n",
       "      <td>27834</td>\n",
       "      <td>1</td>\n",
       "      <td>1</td>\n",
       "      <td>0</td>\n",
       "    </tr>\n",
       "    <tr>\n",
       "      <th>3</th>\n",
       "      <td>27835</td>\n",
       "      <td>1</td>\n",
       "      <td>1</td>\n",
       "      <td>0</td>\n",
       "    </tr>\n",
       "    <tr>\n",
       "      <th>4</th>\n",
       "      <td>27836</td>\n",
       "      <td>2</td>\n",
       "      <td>1</td>\n",
       "      <td>0</td>\n",
       "    </tr>\n",
       "  </tbody>\n",
       "</table>\n",
       "</div>"
      ],
      "text/plain": [
       "   user_id  Tutorial_start_count  Tutorial_finish_count  Purchase_count\n",
       "0    27832                     0                      0               0\n",
       "1    27833                     1                      1               0\n",
       "2    27834                     1                      1               0\n",
       "3    27835                     1                      1               0\n",
       "4    27836                     2                      1               0"
      ]
     },
     "execution_count": 19,
     "metadata": {},
     "output_type": "execute_result"
    }
   ],
   "source": [
    "users_tutorial_w_purchase.head()"
   ]
  },
  {
   "cell_type": "markdown",
   "metadata": {},
   "source": [
    "Группируем наши данные по параметрам **Tutorial_start_count** и **Tutorial_finish_count** что бы получить количество покупок совершивших пользователями начавшими и незавершившими обучение, для дальнейшего получения **процента покупок** по категориям прохождения обучений, что по сути будет и являться нашей **вероятностью совершения покупки**."
   ]
  },
  {
   "cell_type": "code",
   "execution_count": 20,
   "metadata": {},
   "outputs": [],
   "source": [
    "group_Tutorial_start_count = users_tutorial_w_purchase.groupby(['Tutorial_start_count']).\\\n",
    "        agg({'user_id': 'count', 'Purchase_count': 'sum'}).reset_index()\n",
    "group_Tutorial_finish_count = users_tutorial_w_purchase.groupby(['Tutorial_finish_count']).\\\n",
    "        agg({'user_id': 'count', 'Purchase_count': 'sum'}).reset_index()"
   ]
  },
  {
   "cell_type": "code",
   "execution_count": 21,
   "metadata": {},
   "outputs": [
    {
     "data": {
      "text/html": [
       "<div>\n",
       "<style scoped>\n",
       "    .dataframe tbody tr th:only-of-type {\n",
       "        vertical-align: middle;\n",
       "    }\n",
       "\n",
       "    .dataframe tbody tr th {\n",
       "        vertical-align: top;\n",
       "    }\n",
       "\n",
       "    .dataframe thead th {\n",
       "        text-align: right;\n",
       "    }\n",
       "</style>\n",
       "<table border=\"1\" class=\"dataframe\">\n",
       "  <thead>\n",
       "    <tr style=\"text-align: right;\">\n",
       "      <th></th>\n",
       "      <th>Tutorial_start_count</th>\n",
       "      <th>user_id</th>\n",
       "      <th>Purchase_count</th>\n",
       "      <th>users_percent</th>\n",
       "    </tr>\n",
       "  </thead>\n",
       "  <tbody>\n",
       "    <tr>\n",
       "      <th>0</th>\n",
       "      <td>0</td>\n",
       "      <td>8068</td>\n",
       "      <td>22</td>\n",
       "      <td>0.27</td>\n",
       "    </tr>\n",
       "    <tr>\n",
       "      <th>1</th>\n",
       "      <td>1</td>\n",
       "      <td>9103</td>\n",
       "      <td>1207</td>\n",
       "      <td>13.26</td>\n",
       "    </tr>\n",
       "    <tr>\n",
       "      <th>2</th>\n",
       "      <td>2</td>\n",
       "      <td>1589</td>\n",
       "      <td>218</td>\n",
       "      <td>13.72</td>\n",
       "    </tr>\n",
       "    <tr>\n",
       "      <th>3</th>\n",
       "      <td>3</td>\n",
       "      <td>427</td>\n",
       "      <td>51</td>\n",
       "      <td>11.94</td>\n",
       "    </tr>\n",
       "    <tr>\n",
       "      <th>4</th>\n",
       "      <td>4</td>\n",
       "      <td>221</td>\n",
       "      <td>30</td>\n",
       "      <td>13.57</td>\n",
       "    </tr>\n",
       "    <tr>\n",
       "      <th>5</th>\n",
       "      <td>5</td>\n",
       "      <td>109</td>\n",
       "      <td>16</td>\n",
       "      <td>14.68</td>\n",
       "    </tr>\n",
       "    <tr>\n",
       "      <th>6</th>\n",
       "      <td>6</td>\n",
       "      <td>116</td>\n",
       "      <td>14</td>\n",
       "      <td>12.07</td>\n",
       "    </tr>\n",
       "    <tr>\n",
       "      <th>7</th>\n",
       "      <td>7</td>\n",
       "      <td>94</td>\n",
       "      <td>12</td>\n",
       "      <td>12.77</td>\n",
       "    </tr>\n",
       "    <tr>\n",
       "      <th>8</th>\n",
       "      <td>8</td>\n",
       "      <td>86</td>\n",
       "      <td>13</td>\n",
       "      <td>15.12</td>\n",
       "    </tr>\n",
       "    <tr>\n",
       "      <th>9</th>\n",
       "      <td>9</td>\n",
       "      <td>113</td>\n",
       "      <td>17</td>\n",
       "      <td>15.04</td>\n",
       "    </tr>\n",
       "  </tbody>\n",
       "</table>\n",
       "</div>"
      ],
      "text/plain": [
       "   Tutorial_start_count  user_id  Purchase_count  users_percent\n",
       "0                     0     8068              22           0.27\n",
       "1                     1     9103            1207          13.26\n",
       "2                     2     1589             218          13.72\n",
       "3                     3      427              51          11.94\n",
       "4                     4      221              30          13.57\n",
       "5                     5      109              16          14.68\n",
       "6                     6      116              14          12.07\n",
       "7                     7       94              12          12.77\n",
       "8                     8       86              13          15.12\n",
       "9                     9      113              17          15.04"
      ]
     },
     "execution_count": 21,
     "metadata": {},
     "output_type": "execute_result"
    }
   ],
   "source": [
    "group_Tutorial_start_count['users_percent'] = round(\n",
    "    group_Tutorial_start_count['Purchase_count']/group_Tutorial_start_count['user_id']*100, 2)\n",
    "group_Tutorial_start_count"
   ]
  },
  {
   "cell_type": "code",
   "execution_count": 22,
   "metadata": {},
   "outputs": [
    {
     "data": {
      "text/html": [
       "<div>\n",
       "<style scoped>\n",
       "    .dataframe tbody tr th:only-of-type {\n",
       "        vertical-align: middle;\n",
       "    }\n",
       "\n",
       "    .dataframe tbody tr th {\n",
       "        vertical-align: top;\n",
       "    }\n",
       "\n",
       "    .dataframe thead th {\n",
       "        text-align: right;\n",
       "    }\n",
       "</style>\n",
       "<table border=\"1\" class=\"dataframe\">\n",
       "  <thead>\n",
       "    <tr style=\"text-align: right;\">\n",
       "      <th></th>\n",
       "      <th>Tutorial_finish_count</th>\n",
       "      <th>user_id</th>\n",
       "      <th>Purchase_count</th>\n",
       "      <th>users_percent</th>\n",
       "    </tr>\n",
       "  </thead>\n",
       "  <tbody>\n",
       "    <tr>\n",
       "      <th>0</th>\n",
       "      <td>0</td>\n",
       "      <td>9676</td>\n",
       "      <td>153</td>\n",
       "      <td>1.58</td>\n",
       "    </tr>\n",
       "    <tr>\n",
       "      <th>1</th>\n",
       "      <td>1</td>\n",
       "      <td>8015</td>\n",
       "      <td>1143</td>\n",
       "      <td>14.26</td>\n",
       "    </tr>\n",
       "    <tr>\n",
       "      <th>2</th>\n",
       "      <td>2</td>\n",
       "      <td>1321</td>\n",
       "      <td>182</td>\n",
       "      <td>13.78</td>\n",
       "    </tr>\n",
       "    <tr>\n",
       "      <th>3</th>\n",
       "      <td>3</td>\n",
       "      <td>345</td>\n",
       "      <td>44</td>\n",
       "      <td>12.75</td>\n",
       "    </tr>\n",
       "    <tr>\n",
       "      <th>4</th>\n",
       "      <td>4</td>\n",
       "      <td>178</td>\n",
       "      <td>19</td>\n",
       "      <td>10.67</td>\n",
       "    </tr>\n",
       "    <tr>\n",
       "      <th>5</th>\n",
       "      <td>5</td>\n",
       "      <td>117</td>\n",
       "      <td>19</td>\n",
       "      <td>16.24</td>\n",
       "    </tr>\n",
       "    <tr>\n",
       "      <th>6</th>\n",
       "      <td>6</td>\n",
       "      <td>101</td>\n",
       "      <td>15</td>\n",
       "      <td>14.85</td>\n",
       "    </tr>\n",
       "    <tr>\n",
       "      <th>7</th>\n",
       "      <td>7</td>\n",
       "      <td>97</td>\n",
       "      <td>15</td>\n",
       "      <td>15.46</td>\n",
       "    </tr>\n",
       "    <tr>\n",
       "      <th>8</th>\n",
       "      <td>8</td>\n",
       "      <td>54</td>\n",
       "      <td>6</td>\n",
       "      <td>11.11</td>\n",
       "    </tr>\n",
       "    <tr>\n",
       "      <th>9</th>\n",
       "      <td>9</td>\n",
       "      <td>22</td>\n",
       "      <td>4</td>\n",
       "      <td>18.18</td>\n",
       "    </tr>\n",
       "  </tbody>\n",
       "</table>\n",
       "</div>"
      ],
      "text/plain": [
       "   Tutorial_finish_count  user_id  Purchase_count  users_percent\n",
       "0                      0     9676             153           1.58\n",
       "1                      1     8015            1143          14.26\n",
       "2                      2     1321             182          13.78\n",
       "3                      3      345              44          12.75\n",
       "4                      4      178              19          10.67\n",
       "5                      5      117              19          16.24\n",
       "6                      6      101              15          14.85\n",
       "7                      7       97              15          15.46\n",
       "8                      8       54               6          11.11\n",
       "9                      9       22               4          18.18"
      ]
     },
     "execution_count": 22,
     "metadata": {},
     "output_type": "execute_result"
    }
   ],
   "source": [
    "group_Tutorial_finish_count['users_percent'] = round(\n",
    "    group_Tutorial_finish_count['Purchase_count']/group_Tutorial_finish_count['user_id']*100, 2)\n",
    "group_Tutorial_finish_count"
   ]
  },
  {
   "cell_type": "code",
   "execution_count": 23,
   "metadata": {},
   "outputs": [
    {
     "data": {
      "text/plain": [
       "<matplotlib.legend.Legend at 0x21c1b0d90a0>"
      ]
     },
     "execution_count": 23,
     "metadata": {},
     "output_type": "execute_result"
    },
    {
     "data": {
      "image/png": "[encoded data removed]",
      "text/plain": [
       "<Figure size 432x288 with 1 Axes>"
      ]
     },
     "metadata": {
      "needs_background": "light"
     },
     "output_type": "display_data"
    }
   ],
   "source": [
    "fig = plt.figure()\n",
    "axes = fig.add_axes ([0, 0, 1, 1])\n",
    "axes.bar (x= group_Tutorial_start_count.Tutorial_start_count, height = group_Tutorial_start_count['users_percent'], \n",
    "          width = -0.4, align = 'edge', label = 'Вероятность покупки пользователями начинавших обучение',)\n",
    "axes.bar (x= group_Tutorial_finish_count.Tutorial_finish_count, height = group_Tutorial_finish_count['users_percent'],\n",
    "          width = 0.4, align = 'edge',label = 'Вероятность покупки пользователями закончивших обучение')\n",
    "axes.legend(loc=2)"
   ]
  },
  {
   "cell_type": "markdown",
   "metadata": {},
   "source": [
    "## Выводы\n",
    "\n",
    "Отвечая на постваленный вопрос отмечу:\n",
    "- **Зависимости** между вероятностью оплаты и количеством пройденных обучений пользователями (начавших и закончивших) **нет**;\n",
    "- В то же время чётко прослеживается что **начало или завершение хотя бы 1 обучения** значительно, на 12.99% и  12.66 % соответственно, **повышает вероятность** покупки пакета;\n",
    "- **Дополнительное начало или завершение обучения** на вероятность покупки пакета **не оказывает такое существенное влияние** находясь в диапазоне +/- 4%."
   ]
  },
  {
   "cell_type": "markdown",
   "metadata": {},
   "source": [
    "## Вопрос 3. Выявить, как часто пользователи начинают обучение после того, как они выбрали уровень сложности?"
   ]
  },
  {
   "cell_type": "markdown",
   "metadata": {},
   "source": [
    "Для того что бы провести наше исследование нам необходимо:\n",
    "- Создать датасет со всеми событиями level_choice и tutorial_start или использовать уже имеющиеся, объединить их по параметру user_id;\n",
    "- Производим группирование по нашим данным по user_id и по количеству повторных обучений;\n",
    "- Подсчитываем сколько пользователей совершало повторные обучения;\n",
    "- Строим график показывающий взаимосвязь между количесвтом повторных обучений и количесвтом пользователей. "
   ]
  },
  {
   "cell_type": "code",
   "execution_count": 24,
   "metadata": {},
   "outputs": [
    {
     "name": "stdout",
     "output_type": "stream",
     "text": [
      "<class 'pandas.core.frame.DataFrame'>\n",
      "Int64Index: 18050 entries, 7 to 66954\n",
      "Data columns (total 2 columns):\n",
      " #   Column               Non-Null Count  Dtype         \n",
      "---  ------               --------------  -----         \n",
      " 0   user_id              18050 non-null  int64         \n",
      " 1   tutorial_start_time  18050 non-null  datetime64[ns]\n",
      "dtypes: datetime64[ns](1), int64(1)\n",
      "memory usage: 423.0 KB\n"
     ]
    }
   ],
   "source": [
    "tutorial_start_df = total_events_2018[total_events_2018['event_type'] == 'tutorial_start']\n",
    "tutorial_start_df = tutorial_start_df[['user_id','start_time']].rename(columns={'start_time':'tutorial_start_time'})\n",
    "# переименовываем в получившемся датафрейме столбец start_time на tutorial_start_time\n",
    "tutorial_start_df.info()"
   ]
  },
  {
   "cell_type": "code",
   "execution_count": 25,
   "metadata": {
    "scrolled": false
   },
   "outputs": [
    {
     "name": "stdout",
     "output_type": "stream",
     "text": [
      "<class 'pandas.core.frame.DataFrame'>\n",
      "Int64Index: 8342 entries, 19 to 66957\n",
      "Data columns (total 2 columns):\n",
      " #   Column             Non-Null Count  Dtype         \n",
      "---  ------             --------------  -----         \n",
      " 0   user_id            8342 non-null   int64         \n",
      " 1   level_choice_time  8342 non-null   datetime64[ns]\n",
      "dtypes: datetime64[ns](1), int64(1)\n",
      "memory usage: 195.5 KB\n"
     ]
    }
   ],
   "source": [
    "level_choice_df.info()"
   ]
  },
  {
   "cell_type": "code",
   "execution_count": 26,
   "metadata": {
    "scrolled": false
   },
   "outputs": [
    {
     "data": {
      "text/html": [
       "<div>\n",
       "<style scoped>\n",
       "    .dataframe tbody tr th:only-of-type {\n",
       "        vertical-align: middle;\n",
       "    }\n",
       "\n",
       "    .dataframe tbody tr th {\n",
       "        vertical-align: top;\n",
       "    }\n",
       "\n",
       "    .dataframe thead th {\n",
       "        text-align: right;\n",
       "    }\n",
       "</style>\n",
       "<table border=\"1\" class=\"dataframe\">\n",
       "  <thead>\n",
       "    <tr style=\"text-align: right;\">\n",
       "      <th></th>\n",
       "      <th>user_id</th>\n",
       "      <th>level_choice_time</th>\n",
       "      <th>tutorial_start_time</th>\n",
       "    </tr>\n",
       "  </thead>\n",
       "  <tbody>\n",
       "    <tr>\n",
       "      <th>4</th>\n",
       "      <td>27845</td>\n",
       "      <td>2018-01-02 06:19:18</td>\n",
       "      <td>2018-01-02 07:08:00</td>\n",
       "    </tr>\n",
       "    <tr>\n",
       "      <th>6</th>\n",
       "      <td>27842</td>\n",
       "      <td>2018-01-02 08:46:03</td>\n",
       "      <td>2018-01-02 09:01:51</td>\n",
       "    </tr>\n",
       "    <tr>\n",
       "      <th>7</th>\n",
       "      <td>27842</td>\n",
       "      <td>2018-01-02 08:46:03</td>\n",
       "      <td>2018-01-02 18:08:01</td>\n",
       "    </tr>\n",
       "    <tr>\n",
       "      <th>13</th>\n",
       "      <td>27852</td>\n",
       "      <td>2018-01-02 18:39:44</td>\n",
       "      <td>2018-01-02 20:34:31</td>\n",
       "    </tr>\n",
       "    <tr>\n",
       "      <th>19</th>\n",
       "      <td>27862</td>\n",
       "      <td>2018-01-03 04:19:32</td>\n",
       "      <td>2018-01-03 11:17:41</td>\n",
       "    </tr>\n",
       "    <tr>\n",
       "      <th>...</th>\n",
       "      <td>...</td>\n",
       "      <td>...</td>\n",
       "      <td>...</td>\n",
       "    </tr>\n",
       "    <tr>\n",
       "      <th>12626</th>\n",
       "      <td>47635</td>\n",
       "      <td>2018-12-28 11:43:38</td>\n",
       "      <td>2018-12-28 17:28:42</td>\n",
       "    </tr>\n",
       "    <tr>\n",
       "      <th>12640</th>\n",
       "      <td>47657</td>\n",
       "      <td>2018-12-28 21:25:49</td>\n",
       "      <td>2018-12-28 21:44:13</td>\n",
       "    </tr>\n",
       "    <tr>\n",
       "      <th>12641</th>\n",
       "      <td>47657</td>\n",
       "      <td>2018-12-28 21:25:49</td>\n",
       "      <td>2018-12-28 21:53:06</td>\n",
       "    </tr>\n",
       "    <tr>\n",
       "      <th>12664</th>\n",
       "      <td>47711</td>\n",
       "      <td>2018-12-29 21:23:23</td>\n",
       "      <td>2018-12-29 22:50:57</td>\n",
       "    </tr>\n",
       "    <tr>\n",
       "      <th>12673</th>\n",
       "      <td>47724</td>\n",
       "      <td>2018-12-30 13:21:12</td>\n",
       "      <td>2018-12-31 02:47:53</td>\n",
       "    </tr>\n",
       "  </tbody>\n",
       "</table>\n",
       "<p>2792 rows × 3 columns</p>\n",
       "</div>"
      ],
      "text/plain": [
       "       user_id   level_choice_time tutorial_start_time\n",
       "4        27845 2018-01-02 06:19:18 2018-01-02 07:08:00\n",
       "6        27842 2018-01-02 08:46:03 2018-01-02 09:01:51\n",
       "7        27842 2018-01-02 08:46:03 2018-01-02 18:08:01\n",
       "13       27852 2018-01-02 18:39:44 2018-01-02 20:34:31\n",
       "19       27862 2018-01-03 04:19:32 2018-01-03 11:17:41\n",
       "...        ...                 ...                 ...\n",
       "12626    47635 2018-12-28 11:43:38 2018-12-28 17:28:42\n",
       "12640    47657 2018-12-28 21:25:49 2018-12-28 21:44:13\n",
       "12641    47657 2018-12-28 21:25:49 2018-12-28 21:53:06\n",
       "12664    47711 2018-12-29 21:23:23 2018-12-29 22:50:57\n",
       "12673    47724 2018-12-30 13:21:12 2018-12-31 02:47:53\n",
       "\n",
       "[2792 rows x 3 columns]"
      ]
     },
     "execution_count": 26,
     "metadata": {},
     "output_type": "execute_result"
    }
   ],
   "source": [
    "retraining_df = level_choice_df.merge(tutorial_start_df, on = 'user_id', how = 'inner')\n",
    "retraining_df = retraining_df.loc[retraining_df['level_choice_time'] < retraining_df['tutorial_start_time']]\n",
    "retraining_df"
   ]
  },
  {
   "cell_type": "code",
   "execution_count": 27,
   "metadata": {
    "scrolled": true
   },
   "outputs": [
    {
     "data": {
      "text/html": [
       "<div>\n",
       "<style scoped>\n",
       "    .dataframe tbody tr th:only-of-type {\n",
       "        vertical-align: middle;\n",
       "    }\n",
       "\n",
       "    .dataframe tbody tr th {\n",
       "        vertical-align: top;\n",
       "    }\n",
       "\n",
       "    .dataframe thead th {\n",
       "        text-align: right;\n",
       "    }\n",
       "</style>\n",
       "<table border=\"1\" class=\"dataframe\">\n",
       "  <thead>\n",
       "    <tr style=\"text-align: right;\">\n",
       "      <th></th>\n",
       "      <th>tutorial_start_time</th>\n",
       "      <th>user_id</th>\n",
       "      <th>percent_of_all_tutorial</th>\n",
       "    </tr>\n",
       "  </thead>\n",
       "  <tbody>\n",
       "    <tr>\n",
       "      <th>0</th>\n",
       "      <td>1</td>\n",
       "      <td>819</td>\n",
       "      <td>4.54</td>\n",
       "    </tr>\n",
       "    <tr>\n",
       "      <th>1</th>\n",
       "      <td>2</td>\n",
       "      <td>229</td>\n",
       "      <td>1.27</td>\n",
       "    </tr>\n",
       "    <tr>\n",
       "      <th>2</th>\n",
       "      <td>3</td>\n",
       "      <td>116</td>\n",
       "      <td>0.64</td>\n",
       "    </tr>\n",
       "    <tr>\n",
       "      <th>3</th>\n",
       "      <td>4</td>\n",
       "      <td>77</td>\n",
       "      <td>0.43</td>\n",
       "    </tr>\n",
       "    <tr>\n",
       "      <th>4</th>\n",
       "      <td>5</td>\n",
       "      <td>57</td>\n",
       "      <td>0.32</td>\n",
       "    </tr>\n",
       "    <tr>\n",
       "      <th>5</th>\n",
       "      <td>6</td>\n",
       "      <td>51</td>\n",
       "      <td>0.28</td>\n",
       "    </tr>\n",
       "    <tr>\n",
       "      <th>6</th>\n",
       "      <td>7</td>\n",
       "      <td>28</td>\n",
       "      <td>0.16</td>\n",
       "    </tr>\n",
       "    <tr>\n",
       "      <th>7</th>\n",
       "      <td>8</td>\n",
       "      <td>9</td>\n",
       "      <td>0.05</td>\n",
       "    </tr>\n",
       "  </tbody>\n",
       "</table>\n",
       "</div>"
      ],
      "text/plain": [
       "   tutorial_start_time  user_id  percent_of_all_tutorial\n",
       "0                    1      819                     4.54\n",
       "1                    2      229                     1.27\n",
       "2                    3      116                     0.64\n",
       "3                    4       77                     0.43\n",
       "4                    5       57                     0.32\n",
       "5                    6       51                     0.28\n",
       "6                    7       28                     0.16\n",
       "7                    8        9                     0.05"
      ]
     },
     "execution_count": 27,
     "metadata": {},
     "output_type": "execute_result"
    }
   ],
   "source": [
    "retraining_users = retraining_df.groupby(['user_id'])['tutorial_start_time'].count().reset_index()\n",
    "№\n",
    "retraining_users = retraining_users.groupby(['tutorial_start_time'])['user_id'].count().reset_index()\n",
    "retraining_users['percent_of_all_tutorial'] = round(retraining_users['user_id'] / len(tutorial_start_df)*100, 2)\n",
    "retraining_users"
   ]
  },
  {
   "cell_type": "code",
   "execution_count": 28,
   "metadata": {},
   "outputs": [
    {
     "data": {
      "text/plain": [
       "Text(0.5, 1.0, 'Отношение % пользователей начавших повторные обучения к кол-ву повторных обучений')"
      ]
     },
     "execution_count": 28,
     "metadata": {},
     "output_type": "execute_result"
    },
    {
     "data": {
      "image/png": "[encoded data removed]",
      "text/plain": [
       "<Figure size 432x288 with 1 Axes>"
      ]
     },
     "metadata": {
      "needs_background": "light"
     },
     "output_type": "display_data"
    }
   ],
   "source": [
    "fig = plt.figure()\n",
    "axes = fig.add_axes ([0, 0, 1, 1])\n",
    "axes.bar (x= retraining_users['tutorial_start_time'], height = retraining_users['percent_of_all_tutorial'],\n",
    "          label = '% пользователей начавших повторные обучения',)\n",
    "axes.legend(loc=1)\n",
    "axes.set_title('Отношение % пользователей начавших повторные обучения к кол-ву повторных обучений')"
   ]
  },
  {
   "cell_type": "markdown",
   "metadata": {},
   "source": [
    "## Выводы\n",
    "\n",
    "Исходя из полученных данных можно сделать вывод что **7.69 %** всех **пользователей** которые начинали обучение, **возвращаются** к нему **повторно**. Самый большой процент у пользователей которые проходят 1 дополнительное обучение, остальных пользователей меньше."
   ]
  },
  {
   "cell_type": "markdown",
   "metadata": {},
   "source": [
    "## Предложения по оптимизации\n",
    "\n",
    "Из полученных данных можем сделать вывод что **для** тех **людей кто не проходит обучение игра менее дружелюбна**, в связи с чем могут падать и доходы от покупок пакетов. **Рекомендуется сделать обязательным прохождение обучения, что позволит** на дистанции **иметь лояльных клиентов и стабильный доход** от данной игры."
   ]
  }
 ],
 "metadata": {
  "kernelspec": {
   "display_name": "Python 3",
   "language": "python",
   "name": "python3"
  },
  "language_info": {
   "codemirror_mode": {
    "name": "ipython",
    "version": 3
   },
   "file_extension": ".py",
   "mimetype": "text/x-python",
   "name": "python",
   "nbconvert_exporter": "python",
   "pygments_lexer": "ipython3",
   "version": "3.8.5"
  }
 },
 "nbformat": 4,
 "nbformat_minor": 4
}
